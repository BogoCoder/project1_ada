{
 "metadata": {
  "language_info": {
   "codemirror_mode": {
    "name": "ipython",
    "version": 3
   },
   "file_extension": ".py",
   "mimetype": "text/x-python",
   "name": "python",
   "nbconvert_exporter": "python",
   "pygments_lexer": "ipython3",
   "version": "3.8.6-final"
  },
  "orig_nbformat": 2,
  "kernelspec": {
   "name": "python3",
   "display_name": "Python 3"
  }
 },
 "nbformat": 4,
 "nbformat_minor": 2,
 "cells": [
  {
   "source": [
    "# Dataset: Abnormal blood cells"
   ],
   "cell_type": "markdown",
   "metadata": {}
  },
  {
   "cell_type": "code",
   "execution_count": null,
   "metadata": {},
   "outputs": [],
   "source": [
    "import pandas as pd\n",
    "import seaborn as sns\n",
    "import numpy as np\n",
    "import matplotlib.pyplot as plt\n",
    "\n",
    "%matplotlib inline\n",
    "\n",
    "from sklearn.linear_model import LogisticRegression\n",
    "from sklearn.model_selection import train_test_split\n",
    "from sklearn.metrics import confusion_matrix"
   ]
  },
  {
   "cell_type": "code",
   "execution_count": null,
   "metadata": {},
   "outputs": [],
   "source": [
    "df = pd.read_pickle('BL_RL_N_malignanCells.pkl').dropna()\n",
    "df.head()"
   ]
  },
  {
   "source": [
    "## Análisis exploratorio"
   ],
   "cell_type": "markdown",
   "metadata": {}
  },
  {
   "cell_type": "code",
   "execution_count": null,
   "metadata": {},
   "outputs": [],
   "source": [
    "df.info()"
   ]
  },
  {
   "cell_type": "code",
   "execution_count": null,
   "metadata": {},
   "outputs": [],
   "source": [
    "df.describe()"
   ]
  },
  {
   "cell_type": "code",
   "execution_count": null,
   "metadata": {},
   "outputs": [],
   "source": [
    "#variables que describen celula \n",
    "cel_info = df[['Area_cel','EquivDiameter_cel','Eccentricity_cel','Perimeter_cel','Solidity_cel','Extent_cel','circularity_cel','Elongation_cel','roundnessCH_cel','convexity_cel','circleVariance_cel','ellipVariance_cel']]\n",
    "#correlacion\n",
    "plt.subplots(figsize=(20,15))\n",
    "sns.heatmap(cel_info.corr(), annot= True );"
   ]
  },
  {
   "cell_type": "code",
   "execution_count": null,
   "metadata": {},
   "outputs": [],
   "source": [
    "cel_info_red = df[['Perimeter_cel','Solidity_cel','Extent_cel','circularity_cel','Elongation_cel','roundnessCH_cel','circleVariance_cel']]#son las que mustran mayor correlacion\n",
    "\n",
    "sns.pairplot(cel_info_red);"
   ]
  },
  {
   "cell_type": "code",
   "execution_count": null,
   "metadata": {},
   "outputs": [],
   "source": [
    "#variables que describen nucleo\n",
    "nuc_info = df[['Area_nuc','EquivDiameter_nuc','Eccentricity_nuc','Perimeter_nuc','Solidity_nuc','Extent_nuc','circularity_nuc','Elongation_nuc','roundnessCH_nuc','convexity_nuc','circleVariance_nuc','ellipVariance_nuc']]\n",
    "plt.subplots(figsize=(20,15))\n",
    "#correlacion\n",
    "sns.heatmap(nuc_info.corr(), annot= True );"
   ]
  },
  {
   "cell_type": "code",
   "execution_count": null,
   "metadata": {},
   "outputs": [],
   "source": [
    "nuc_info_red = df[['Perimeter_nuc','Solidity_nuc','Extent_nuc','circularity_nuc','Elongation_nuc','roundnessCH_nuc','circleVariance_nuc']]#las que muestran mayor correlacion\n",
    "\n",
    "sns.pairplot(nuc_info_red);"
   ]
  },
  {
   "cell_type": "code",
   "execution_count": null,
   "metadata": {},
   "outputs": [],
   "source": [
    "cel_info_red.hist(figsize = (20,20));"
   ]
  },
  {
   "cell_type": "code",
   "execution_count": null,
   "metadata": {},
   "outputs": [],
   "source": [
    "nuc_info_red.hist(figsize = (20,20));"
   ]
  },
  {
   "cell_type": "code",
   "execution_count": null,
   "metadata": {},
   "outputs": [],
   "source": [
    "X = df.drop(columns=['tipoCelula','entidad','historia','frotis','archivos'])\n",
    "y = df['tipoCelula']\n",
    "X_train, X_test, y_train, y_test = train_test_split(X,y,test_size= 0.3, random_state=43)"
   ]
  },
  {
   "cell_type": "code",
   "execution_count": null,
   "metadata": {},
   "outputs": [],
   "source": [
    "glm = LogisticRegression().fit(X_train,y_train)\n",
    "y_pred = glm.predict(X_test)"
   ]
  },
  {
   "cell_type": "code",
   "execution_count": null,
   "metadata": {},
   "outputs": [],
   "source": [
    "CM = confusion_matrix(y_pred,y_test,labels=['BL','RL','N'])\n",
    "CM = np.resize(CM,new_shape=[3,3])\n",
    "CM = CM/np.sum(CM,axis=1) \n",
    "CM = pd.DataFrame(CM, index = ['BL','RL','N'], columns=['BL','RL','N'])\n",
    "sns.heatmap(CM,annot=True,cmap = 'YlGnBu')\n",
    "plt.tight_layout()\n",
    "plt.show()"
   ]
  }
 ]
}